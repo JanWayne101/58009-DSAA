{
  "nbformat": 4,
  "nbformat_minor": 0,
  "metadata": {
    "colab": {
      "provenance": [],
      "authorship_tag": "ABX9TyNII7svOq5PTS5cDHwVRVSy",
      "include_colab_link": true
    },
    "kernelspec": {
      "name": "python3",
      "display_name": "Python 3"
    },
    "language_info": {
      "name": "python"
    }
  },
  "cells": [
    {
      "cell_type": "markdown",
      "metadata": {
        "id": "view-in-github",
        "colab_type": "text"
      },
      "source": [
        "<a href=\"https://colab.research.google.com/github/JanWayne101/58009-DSAA/blob/main/Practical_Lab_exam.ipynb\" target=\"_parent\"><img src=\"https://colab.research.google.com/assets/colab-badge.svg\" alt=\"Open In Colab\"/></a>"
      ]
    },
    {
      "cell_type": "code",
      "execution_count": null,
      "metadata": {
        "id": "LtU64dcJ8J3Y"
      },
      "outputs": [],
      "source": []
    },
    {
      "cell_type": "markdown",
      "source": [
        "OOP Activity"
      ],
      "metadata": {
        "id": "GQ5xCcrg8peS"
      }
    },
    {
      "cell_type": "code",
      "source": [],
      "metadata": {
        "colab": {
          "base_uri": "https://localhost:8080/"
        },
        "id": "-NfAaX0w8r8I",
        "outputId": "7651277a-9dea-4bfb-9d8d-cb9430b84ea2"
      },
      "execution_count": null,
      "outputs": [
        {
          "output_type": "stream",
          "name": "stdout",
          "text": [
            "Fullname:  Jan Wayne Rey Y. Godin\n",
            "Age:  19\n",
            "School:  Adamson University\n"
          ]
        }
      ]
    },
    {
      "cell_type": "code",
      "source": [],
      "metadata": {
        "colab": {
          "base_uri": "https://localhost:8080/"
        },
        "id": "AH0uatMLJe1d",
        "outputId": "141432cb-95d9-4f87-95f6-74eb1739996f"
      },
      "execution_count": 12,
      "outputs": [
        {
          "output_type": "stream",
          "name": "stdout",
          "text": [
            "['dog', 'fish']\n"
          ]
        }
      ]
    },
    {
      "cell_type": "code",
      "source": [
        "test_scores = [26, 49, 98, 87, 62, 75]\n",
        "sum_odd_scores = 0\n",
        "sum_even_scores = 0\n",
        "\n",
        "for score in test_scores:\n",
        "    if score % 2 != 0:\n",
        "        sum_odd_scores += score\n",
        "    elif score % 2 == 0:\n",
        "        sum_even_scores += score\n",
        "\n",
        "print(\"Sum of odd test scores:\", sum_odd_scores)\n",
        "print(\"Sum of even test scores:\", sum_even_scores)"
      ],
      "metadata": {
        "colab": {
          "base_uri": "https://localhost:8080/"
        },
        "id": "jJa6NaCgZY6o",
        "outputId": "848815ea-ccf4-4ed8-9d20-db8d680728e7"
      },
      "execution_count": 16,
      "outputs": [
        {
          "output_type": "stream",
          "name": "stdout",
          "text": [
            "Sum of odd test scores: 211\n",
            "Sum of even test scores: 186\n"
          ]
        }
      ]
    }
  ]
}