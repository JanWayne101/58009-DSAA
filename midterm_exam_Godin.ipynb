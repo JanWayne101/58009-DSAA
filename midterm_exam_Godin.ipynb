{
  "nbformat": 4,
  "nbformat_minor": 0,
  "metadata": {
    "colab": {
      "provenance": [],
      "authorship_tag": "ABX9TyNZHdItFo84BQTmsQajB6RD",
      "include_colab_link": true
    },
    "kernelspec": {
      "name": "python3",
      "display_name": "Python 3"
    },
    "language_info": {
      "name": "python"
    }
  },
  "cells": [
    {
      "cell_type": "markdown",
      "metadata": {
        "id": "view-in-github",
        "colab_type": "text"
      },
      "source": [
        "<a href=\"https://colab.research.google.com/github/JanWayne101/58009-DSAA/blob/main/midterm_exam_Godin.ipynb\" target=\"_parent\"><img src=\"https://colab.research.google.com/assets/colab-badge.svg\" alt=\"Open In Colab\"/></a>"
      ]
    },
    {
      "cell_type": "markdown",
      "source": [
        "Midterm_Exam\n"
      ],
      "metadata": {
        "id": "8WX7w2IKRYDk"
      }
    },
    {
      "cell_type": "code",
      "source": [
        "class graph:\n",
        "  def __init__(self,gdict=None):\n",
        "      if gdict is None:\n",
        "         gdict = []\n",
        "\n",
        "\n",
        "      self.gdict = gdict\n",
        "# Get the keys of the dictionary\n",
        "  def getVertices(self):\n",
        "      return list(self.gdict.keys())\n",
        "\n",
        "#Display Graph Edges\n",
        "  def edges(self):\n",
        "      return self.findedges()\n",
        "# Find the distinct list of edges\n",
        "  def findedges(self):\n",
        "      edgename = []\n",
        "      for vrtx in self.gdict:\n",
        "         for nxtvrtx in self.gdict[vrtx]:\n",
        "            if {nxtvrtx, vrtx} not in edgename:\n",
        "               edgename.append({vrtx, nxtvrtx})\n",
        "      return edgename\n",
        "# Create the dictionary with graph elements\n",
        "graph_elements = {\n",
        "   \"A\" : [\"B\"],\n",
        "   \"B\" : [\"E\",\"C\",\"F\"],\n",
        "   \"C\" : [\"B\",\"D\",\"E\",\"F\",\"I\",\"M\"],\n",
        "   \"D\" : [\"C\",\"L\",\"K\"],\n",
        "   \"E\" : [\"B\",\"C\",\"N\"],\n",
        "   \"F\" : [\"B\",\"C\",\"G\",\"I\"],\n",
        "   \"G\" : [\"F\",\"I\",\"J\"],\n",
        "   \"I\" : [\"C\",\"F\",\"G\",\"J\",\"K\"],\n",
        "   \"J\" : [\"G\",\"I\",\"K\"],\n",
        "   \"K\" : [\"D\",\"I\",\"J\"],\n",
        "   \"L\" : [\"D\",\"M\",\"P\"],\n",
        "   \"M\" : [\"C\",\"D\",\"N\",\"O\",\"P\"],\n",
        "   \"N\" : [\"E\",\"M\",\"O\"],\n",
        "   \"O\" : [\"M\",\"N\",\"P\"],\n",
        "   \"P\" : [\"L\",\"M\",\"P\"]}\n",
        "\n",
        "g = graph(graph_elements)\n",
        "print(g.getVertices())\n",
        "print(g.edges())"
      ],
      "metadata": {
        "colab": {
          "base_uri": "https://localhost:8080/"
        },
        "id": "precOl86RbgZ",
        "outputId": "fbbb34be-7c5c-478a-9e87-5d4b16b280e8"
      },
      "execution_count": 10,
      "outputs": [
        {
          "output_type": "stream",
          "name": "stdout",
          "text": [
            "['A', 'B', 'C', 'D', 'E', 'F', 'G', 'I', 'J', 'K', 'L', 'M', 'N', 'O', 'P']\n",
            "[{'B', 'A'}, {'B', 'E'}, {'B', 'C'}, {'B', 'F'}, {'C', 'D'}, {'C', 'E'}, {'F', 'C'}, {'I', 'C'}, {'M', 'C'}, {'L', 'D'}, {'K', 'D'}, {'N', 'E'}, {'G', 'F'}, {'F', 'I'}, {'G', 'I'}, {'G', 'J'}, {'I', 'J'}, {'K', 'I'}, {'K', 'J'}, {'M', 'L'}, {'L', 'P'}, {'M', 'D'}, {'M', 'N'}, {'M', 'O'}, {'M', 'P'}, {'N', 'O'}, {'O', 'P'}, {'P'}]\n"
          ]
        }
      ]
    },
    {
      "cell_type": "code",
      "source": [],
      "metadata": {
        "id": "LzmqzRbkU50O"
      },
      "execution_count": null,
      "outputs": []
    }
  ]
}