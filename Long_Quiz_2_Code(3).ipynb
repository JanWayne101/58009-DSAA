{
  "nbformat": 4,
  "nbformat_minor": 0,
  "metadata": {
    "colab": {
      "provenance": [],
      "authorship_tag": "ABX9TyOzcgH4LSRHW2/mmOpd5CqS",
      "include_colab_link": true
    },
    "kernelspec": {
      "name": "python3",
      "display_name": "Python 3"
    },
    "language_info": {
      "name": "python"
    }
  },
  "cells": [
    {
      "cell_type": "markdown",
      "metadata": {
        "id": "view-in-github",
        "colab_type": "text"
      },
      "source": [
        "<a href=\"https://colab.research.google.com/github/JanWayne101/58009-DSAA/blob/main/Long_Quiz_2_Code(3).ipynb\" target=\"_parent\"><img src=\"https://colab.research.google.com/assets/colab-badge.svg\" alt=\"Open In Colab\"/></a>"
      ]
    },
    {
      "cell_type": "markdown",
      "source": [],
      "metadata": {
        "id": "73rUWAay0Ula"
      }
    },
    {
      "cell_type": "code",
      "source": [
        "#Display Graph Vertices\n",
        "\n",
        "class graph:\n",
        "  def __init__(self,gdict=None):\n",
        "      if gdict is None:\n",
        "         gdict = []\n",
        "\n",
        "\n",
        "      self.gdict = gdict\n",
        "# Get the keys of the dictionary\n",
        "  def getVertices(self):\n",
        "      return list(self.gdict.keys())\n",
        "\n",
        "#Display Graph Edges\n",
        "  def edges(self):\n",
        "      return self.findedges()\n",
        "# Find the distinct list of edges\n",
        "  def findedges(self):\n",
        "      edgename = []\n",
        "      for vrtx in self.gdict:\n",
        "         for nxtvrtx in self.gdict[vrtx]:\n",
        "            if {nxtvrtx, vrtx} not in edgename:\n",
        "               edgename.append({vrtx, nxtvrtx})\n",
        "      return edgename\n",
        "# Create the dictionary with graph elements\n",
        "graph_elements = {\n",
        "   \"E\" : [\"I\",\"J\",\"K\",\"M\"],\n",
        "   \"F\" : [\"I\",\"J\",\"K\"],\n",
        "   \"H\" : [\"I\",\"J\",\"K\"],\n",
        "   \"I\" : [\"E\",\"F\",\"H\"],\n",
        "   \"J\" : [\"E\",\"F\",\"H\"],\n",
        "   \"K\" : [\"F\",\"H\"],\n",
        "   \"M\" : [\"E\"],\n",
        "   \"P\" : [\"F\"]}\n",
        "\n",
        "g = graph(graph_elements)\n",
        "print(g.getVertices())\n",
        "print(g.edges())\n"
      ],
      "metadata": {
        "colab": {
          "base_uri": "https://localhost:8080/"
        },
        "id": "UR-eACoF0UtC",
        "outputId": "00592d08-b0c8-483f-f215-74ae85f642f3"
      },
      "execution_count": 3,
      "outputs": [
        {
          "output_type": "stream",
          "name": "stdout",
          "text": [
            "['E', 'F', 'H', 'I', 'J', 'K', 'M', 'P']\n",
            "[{'I', 'E'}, {'J', 'E'}, {'E', 'K'}, {'E', 'M'}, {'F', 'I'}, {'F', 'J'}, {'F', 'K'}, {'I', 'H'}, {'J', 'H'}, {'H', 'K'}, {'F', 'P'}]\n"
          ]
        }
      ]
    }
  ]
}