{
  "nbformat": 4,
  "nbformat_minor": 0,
  "metadata": {
    "colab": {
      "provenance": [],
      "authorship_tag": "ABX9TyNfYT8t18xumEM3lFQ2DEqD",
      "include_colab_link": true
    },
    "kernelspec": {
      "name": "python3",
      "display_name": "Python 3"
    },
    "language_info": {
      "name": "python"
    }
  },
  "cells": [
    {
      "cell_type": "markdown",
      "metadata": {
        "id": "view-in-github",
        "colab_type": "text"
      },
      "source": [
        "<a href=\"https://colab.research.google.com/github/JanWayne101/58009-DSAA/blob/main/Activity_2_Single_link_list.ipynb\" target=\"_parent\"><img src=\"https://colab.research.google.com/assets/colab-badge.svg\" alt=\"Open In Colab\"/></a>"
      ]
    },
    {
      "cell_type": "markdown",
      "source": [
        "Write a Python program to create a singly linked list of prime numbers less than 20. By iterating through the list, display all the prime numbers, the head, and the tail of the list. (using Google Colab)"
      ],
      "metadata": {
        "id": "jb6sEjoSed8r"
      }
    },
    {
      "cell_type": "code",
      "source": [
        "from pickle import NONE\n",
        "class primeno:\n",
        "  def __init__(self, data):\n",
        "    self.data = data\n",
        "    self.next = None\n",
        "\n",
        "class LinkedList:\n",
        "  def __init__(self):\n",
        "    self.head = None\n",
        "\n",
        "  def printlist(self):\n",
        "    temp = self.head\n",
        "    while temp:\n",
        "      print(temp.data)\n",
        "      temp = temp.next\n",
        "\n",
        "\n",
        "if __name__ == '__main__':\n",
        "  llist = LinkedList()\n",
        "  llist.head = primeno(2)\n",
        "  second = primeno(3)\n",
        "  third = primeno(5)\n",
        "  fourth = primeno(7)\n",
        "  fifth = primeno(11)\n",
        "  sixth = primeno(13)\n",
        "  seventh = primeno(17)\n",
        "  eigth = primeno(19)\n",
        "\n",
        "  llist.head.next = second\n",
        "  second.next = third\n",
        "  third.next = fourth\n",
        "  fourth.next = fifth\n",
        "  fifth.next = sixth\n",
        "  sixth.next = seventh\n",
        "  seventh.next = eigth\n",
        "  llist.printlist()\n",
        "  print(\"The head of the link list is 2\")\n",
        "  print(\"The tail of the link list is 19\")\n",
        "\n",
        "\n"
      ],
      "metadata": {
        "colab": {
          "base_uri": "https://localhost:8080/"
        },
        "id": "VX9Xj4VwegH0",
        "outputId": "6055bdc8-bb27-4d8a-ab0e-6cfda81cedef"
      },
      "execution_count": 17,
      "outputs": [
        {
          "output_type": "stream",
          "name": "stdout",
          "text": [
            "2\n",
            "3\n",
            "5\n",
            "7\n",
            "11\n",
            "13\n",
            "17\n",
            "19\n",
            "The head of the link list is 2\n",
            "The tail of the link list is 19\n"
          ]
        }
      ]
    }
  ]
}