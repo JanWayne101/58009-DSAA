{
  "nbformat": 4,
  "nbformat_minor": 0,
  "metadata": {
    "colab": {
      "provenance": [],
      "authorship_tag": "ABX9TyP9pkgNNQHpVnIY5GVaAk9x",
      "include_colab_link": true
    },
    "kernelspec": {
      "name": "python3",
      "display_name": "Python 3"
    },
    "language_info": {
      "name": "python"
    }
  },
  "cells": [
    {
      "cell_type": "markdown",
      "metadata": {
        "id": "view-in-github",
        "colab_type": "text"
      },
      "source": [
        "<a href=\"https://colab.research.google.com/github/JanWayne101/58009-DSAA/blob/main/Activity7.ipynb\" target=\"_parent\"><img src=\"https://colab.research.google.com/assets/colab-badge.svg\" alt=\"Open In Colab\"/></a>"
      ]
    },
    {
      "cell_type": "code",
      "source": [
        "#Display Graph Edges\n",
        "\n",
        "class graph:\n",
        "   def __init__(self,gdict=None):\n",
        "      if gdict is None:\n",
        "         gdict = {}\n",
        "      self.gdict = gdict\n",
        "\n",
        "   def edges(self):\n",
        "      return self.findedges()\n",
        "# Find the distinct list of edges\n",
        "   def findedges(self):\n",
        "      edgename = []\n",
        "      for vrtx in self.gdict:\n",
        "         for nxtvrtx in self.gdict[vrtx]:\n",
        "            if {nxtvrtx, vrtx} not in edgename:\n",
        "               edgename.append({vrtx, nxtvrtx})\n",
        "      return edgename\n",
        "# Create the dictionary with graph elements\n",
        "graph_elements = {\n",
        "   1 : [2,3,5,6],\n",
        "   2 : [1,3, 4, 5,6],\n",
        "   3 : [1,2,4,5],\n",
        "   4 : [2,3],\n",
        "   5 : [1,2,3],\n",
        "   6 : [1,2]}\n",
        "g = graph(graph_elements)\n",
        "print(g.edges())"
      ],
      "metadata": {
        "colab": {
          "base_uri": "https://localhost:8080/"
        },
        "id": "wZImZjaqMNsh",
        "outputId": "c4fa650b-8e22-4099-8aa0-fa9422f24905"
      },
      "execution_count": 17,
      "outputs": [
        {
          "output_type": "stream",
          "name": "stdout",
          "text": [
            "[{1, 2}, {1, 3}, {1, 5}, {1, 6}, {2, 3}, {2, 4}, {2, 5}, {2, 6}, {3, 4}, {3, 5}]\n"
          ]
        }
      ]
    },
    {
      "cell_type": "code",
      "source": [
        "#Display Graph Vertices\n",
        "\n",
        "class graph:\n",
        "   def __init__(self,gdict=None):\n",
        "      if gdict is None:\n",
        "         gdict = []\n",
        "      self.gdict = gdict\n",
        "\n",
        "   def vertices(self):\n",
        "    return self.findvertices()\n",
        "# Get the keys of the dictionary\n",
        "   def getVertices(self):\n",
        "      return list(self.gdict.keys())\n",
        "\n",
        "# Create the dictionary with graph elements\n",
        "graph_elements = {\n",
        "   1 : [2,3,5,6],\n",
        "   2 : [1,3, 4, 5,6],\n",
        "   3 : [1,2,4,5],\n",
        "   4 : [2,3],\n",
        "   5 : [1,2,3],\n",
        "   6 : [1,2]}\n",
        "g = graph(graph_elements)\n",
        "print(g.getVertices())\n",
        "#Display Graph Edges"
      ],
      "metadata": {
        "colab": {
          "base_uri": "https://localhost:8080/"
        },
        "id": "T9ujZDYBR9h2",
        "outputId": "072d6b1f-cbbb-41fe-ad02-87cfb560a5cd"
      },
      "execution_count": 16,
      "outputs": [
        {
          "output_type": "stream",
          "name": "stdout",
          "text": [
            "['1', '2', '3', '4', '5', '6']\n"
          ]
        }
      ]
    },
    {
      "cell_type": "code",
      "source": [
        "#Display Graph Vertices\n",
        "\n",
        "class graph:\n",
        "  def __init__(self,gdict=None):\n",
        "      if gdict is None:\n",
        "         gdict = []\n",
        "\n",
        "\n",
        "      self.gdict = gdict\n",
        "# Get the keys of the dictionary\n",
        "  def getVertices(self):\n",
        "      return list(self.gdict.keys())\n",
        "\n",
        "#Display Graph Edges\n",
        "  def edges(self):\n",
        "      return self.findedges()\n",
        "# Find the distinct list of edges\n",
        "  def findedges(self):\n",
        "      edgename = []\n",
        "      for vrtx in self.gdict:\n",
        "         for nxtvrtx in self.gdict[vrtx]:\n",
        "            if {nxtvrtx, vrtx} not in edgename:\n",
        "               edgename.append({vrtx, nxtvrtx})\n",
        "      return edgename\n",
        "# Create the dictionary with graph elements\n",
        "graph_elements = {\n",
        "   1 : [2,3,5,6],\n",
        "   2 : [1,3, 4, 5,6],\n",
        "   3 : [1,2,4,5],\n",
        "   4 : [2,3],\n",
        "   5 : [1,2,3],\n",
        "   6 : [1,2]}\n",
        "\n",
        "g = graph(graph_elements)\n",
        "print(g.getVertices())\n",
        "print(g.edges())\n"
      ],
      "metadata": {
        "colab": {
          "base_uri": "https://localhost:8080/"
        },
        "id": "rSd8t6REM-Ej",
        "outputId": "ad2613d9-8bfc-4b2c-8c8b-3d4a9d28a260"
      },
      "execution_count": 20,
      "outputs": [
        {
          "output_type": "stream",
          "name": "stdout",
          "text": [
            "[1, 2, 3, 4, 5, 6]\n",
            "[{1, 2}, {1, 3}, {1, 5}, {1, 6}, {2, 3}, {2, 4}, {2, 5}, {2, 6}, {3, 4}, {3, 5}]\n"
          ]
        }
      ]
    }
  ]
}