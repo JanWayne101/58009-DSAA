{
  "nbformat": 4,
  "nbformat_minor": 0,
  "metadata": {
    "colab": {
      "provenance": [],
      "authorship_tag": "ABX9TyMcitiq7IXouBX0aD/nhQcy",
      "include_colab_link": true
    },
    "kernelspec": {
      "name": "python3",
      "display_name": "Python 3"
    },
    "language_info": {
      "name": "python"
    }
  },
  "cells": [
    {
      "cell_type": "markdown",
      "metadata": {
        "id": "view-in-github",
        "colab_type": "text"
      },
      "source": [
        "<a href=\"https://colab.research.google.com/github/JanWayne101/58009-DSAA/blob/main/Prelim.ipynb\" target=\"_parent\"><img src=\"https://colab.research.google.com/assets/colab-badge.svg\" alt=\"Open In Colab\"/></a>"
      ]
    },
    {
      "cell_type": "code",
      "execution_count": null,
      "metadata": {
        "id": "LtU64dcJ8J3Y"
      },
      "outputs": [],
      "source": []
    },
    {
      "cell_type": "markdown",
      "source": [
        "OOP Activity"
      ],
      "metadata": {
        "id": "GQ5xCcrg8peS"
      }
    },
    {
      "cell_type": "markdown",
      "source": [
        "1. Open your Python (Pycharm or Colab) or Dev C++ to create the source code for adding the test scores 26, 49, 98, 87, 62, 75 (30 points)\n",
        "\n",
        "2. Create a program to sort the test scores in ascending order\n",
        "\n",
        "3. Draw the appropriate flowchart and save it as a pdf"
      ],
      "metadata": {
        "id": "-bVmhTZP51yB"
      }
    },
    {
      "cell_type": "code",
      "source": [
        "Test_score = [26, 49, 98, 87, 62, 75]\n",
        "sum = Test_score[0] + Test_score[1] + Test_score[2] + Test_score[3] + Test_score[4] + Test_score[5]\n",
        "print(sum)\n",
        "Test_score.sort()\n",
        "print(Test_score)"
      ],
      "metadata": {
        "colab": {
          "base_uri": "https://localhost:8080/"
        },
        "id": "eWnvKpXB52rB",
        "outputId": "5eb1e982-cb1a-459c-eac9-2a29a0f2aedd"
      },
      "execution_count": 5,
      "outputs": [
        {
          "output_type": "stream",
          "name": "stdout",
          "text": [
            "397\n",
            "[26, 49, 62, 75, 87, 98]\n"
          ]
        }
      ]
    }
  ]
}