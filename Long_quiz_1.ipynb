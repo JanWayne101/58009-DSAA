{
  "nbformat": 4,
  "nbformat_minor": 0,
  "metadata": {
    "colab": {
      "provenance": [],
      "authorship_tag": "ABX9TyON4bH8mLAa0YRg+b9uCv8x",
      "include_colab_link": true
    },
    "kernelspec": {
      "name": "python3",
      "display_name": "Python 3"
    },
    "language_info": {
      "name": "python"
    }
  },
  "cells": [
    {
      "cell_type": "markdown",
      "metadata": {
        "id": "view-in-github",
        "colab_type": "text"
      },
      "source": [
        "<a href=\"https://colab.research.google.com/github/JanWayne101/58009-DSAA/blob/main/Long_quiz_1.ipynb\" target=\"_parent\"><img src=\"https://colab.research.google.com/assets/colab-badge.svg\" alt=\"Open In Colab\"/></a>"
      ]
    },
    {
      "cell_type": "code",
      "execution_count": null,
      "metadata": {
        "id": "LtU64dcJ8J3Y"
      },
      "outputs": [],
      "source": []
    },
    {
      "cell_type": "markdown",
      "source": [
        "OOP Activity"
      ],
      "metadata": {
        "id": "GQ5xCcrg8peS"
      }
    },
    {
      "cell_type": "markdown",
      "source": [
        "Create a python or C++ program that appends each character of your full name and displays each character in reverse order (50 points)"
      ],
      "metadata": {
        "id": "XFw_u1UA6I3m"
      }
    },
    {
      "cell_type": "code",
      "source": [
        "Fullname = [\"J\", \"a\", \"n\", \"W\", \"a\", \"y\", \"n\", \"e\", \"R\", \"e\", \"y\", \"Y.\", \"G\", \"o\", \"d\", \"i\", \"n\"]\n",
        "Fullname.append\n",
        "print(Fullname)\n",
        "Fullname.reverse()\n",
        "print(Fullname)"
      ],
      "metadata": {
        "colab": {
          "base_uri": "https://localhost:8080/"
        },
        "id": "jcdkxMEL6LFG",
        "outputId": "bbe848bc-dc1f-48ac-d3a9-b8d4bfc07ab7"
      },
      "execution_count": 14,
      "outputs": [
        {
          "output_type": "stream",
          "name": "stdout",
          "text": [
            "['J', 'a', 'n', 'W', 'a', 'y', 'n', 'e', 'R', 'e', 'y', 'Y.', 'G', 'o', 'd', 'i', 'n']\n",
            "['n', 'i', 'd', 'o', 'G', 'Y.', 'y', 'e', 'R', 'e', 'n', 'y', 'a', 'W', 'n', 'a', 'J']\n"
          ]
        }
      ]
    },
    {
      "cell_type": "markdown",
      "source": [
        "Using the set of positive whole numbers from 1 to 10, create a python or C++ program that displays if it is prime or composite. (50 points)"
      ],
      "metadata": {
        "id": "H3O_Gv5j6LZ2"
      }
    },
    {
      "cell_type": "code",
      "source": [
        "print(\"1 is neither prime or composite\")\n",
        "def is_composite(n):\n",
        "    if n <= 1:\n",
        "        return False\n",
        "    for i in range(2, int(n**0.5) + 1):\n",
        "        if n % i == 0:\n",
        "            return True\n",
        "    return False\n",
        "\n",
        "for number in range(1, 11):\n",
        "    result = \"composite\" if is_composite(number) else \"prime\"\n",
        "    print(f\"{number} is {result}\")\n",
        "\n"
      ],
      "metadata": {
        "colab": {
          "base_uri": "https://localhost:8080/"
        },
        "id": "s5d6bQi4GBTI",
        "outputId": "d7db671b-789c-4f05-9aff-3d0d50eb0805"
      },
      "execution_count": 23,
      "outputs": [
        {
          "output_type": "stream",
          "name": "stdout",
          "text": [
            "1 is neither prime or composite\n",
            "1 is prime\n",
            "2 is prime\n",
            "3 is prime\n",
            "4 is composite\n",
            "5 is prime\n",
            "6 is composite\n",
            "7 is prime\n",
            "8 is composite\n",
            "9 is composite\n",
            "10 is composite\n"
          ]
        }
      ]
    },
    {
      "cell_type": "code",
      "source": [],
      "metadata": {
        "id": "9qIBcFiaE5Lx"
      },
      "execution_count": null,
      "outputs": []
    }
  ]
}