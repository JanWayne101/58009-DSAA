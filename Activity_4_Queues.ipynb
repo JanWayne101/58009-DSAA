{
  "nbformat": 4,
  "nbformat_minor": 0,
  "metadata": {
    "colab": {
      "provenance": [],
      "authorship_tag": "ABX9TyM+aZG16WU1tDTNOGqsEfu6",
      "include_colab_link": true
    },
    "kernelspec": {
      "name": "python3",
      "display_name": "Python 3"
    },
    "language_info": {
      "name": "python"
    }
  },
  "cells": [
    {
      "cell_type": "markdown",
      "metadata": {
        "id": "view-in-github",
        "colab_type": "text"
      },
      "source": [
        "<a href=\"https://colab.research.google.com/github/JanWayne101/58009-DSAA/blob/main/Activity_4_Queues.ipynb\" target=\"_parent\"><img src=\"https://colab.research.google.com/assets/colab-badge.svg\" alt=\"Open In Colab\"/></a>"
      ]
    },
    {
      "cell_type": "code",
      "source": [
        "queue = []\n",
        "queue.append('A')\n",
        "queue.append('b')\n",
        "queue.append('c')\n",
        "print(queue)\n",
        "\n",
        "#DEQUEUE items from teh queue\n",
        "print(queue.pop(0))\n",
        "print(queue.pop(0))\n",
        "print(queue)"
      ],
      "metadata": {
        "colab": {
          "base_uri": "https://localhost:8080/"
        },
        "id": "Us6HI7wejIDy",
        "outputId": "ad9d5c55-3a31-42f6-86df-3732cd0ea32d"
      },
      "execution_count": 18,
      "outputs": [
        {
          "output_type": "stream",
          "name": "stdout",
          "text": [
            "['A', 'b', 'c']\n",
            "A\n",
            "b\n",
            "['c']\n"
          ]
        }
      ]
    },
    {
      "cell_type": "code",
      "source": [
        "from queue import PriorityQueue\n",
        "\n",
        "priority_queue = PriorityQueue()\n",
        "priority_queue.put((4, 'Jillian'))\n",
        "priority_queue.put((1, 'Chloe'))\n",
        "priority_queue.put((2, 'Jan Wayne'))\n",
        "priority_queue.put((3, 'Caitlin'))\n",
        "\n",
        "while not priority_queue.empty():\n",
        "  nxt_name = priority_queue.get()\n",
        "  print(nxt_name)\n",
        "\n",
        "print(queue.pop(0))\n",
        "print(queue)\n"
      ],
      "metadata": {
        "colab": {
          "base_uri": "https://localhost:8080/"
        },
        "id": "ISpCzO0MlQpV",
        "outputId": "ea91984c-0696-4e45-ee1e-9ac51abac018"
      },
      "execution_count": 17,
      "outputs": [
        {
          "output_type": "stream",
          "name": "stdout",
          "text": [
            "(1, 'Chloe')\n",
            "(2, 'Jan Wayne')\n",
            "(3, 'Caitlin')\n",
            "(4, 'Jillian')\n",
            "C\n",
            "[]\n"
          ]
        }
      ]
    },
    {
      "cell_type": "code",
      "source": [
        "from collections import deque\n",
        "\n",
        "queue_exm = deque()\n",
        "\n",
        "queue_exm.append('x')\n",
        "\n",
        "queue_exm.append('y')\n",
        "\n",
        "queue_exm.append('z')\n",
        "\n",
        "print(\"Queue before operations\")\n",
        "\n",
        "print(queue_exm)\n",
        "\n",
        "# Dequeuing elements\n",
        "\n",
        "print(\"\\nDequeuing elements\")\n",
        "\n",
        "print(queue_exm.popleft())\n",
        "\n",
        "print(queue_exm.popleft())\n",
        "\n",
        "print(queue_exm.popleft())\n",
        "\n",
        "\n",
        "print(\"\\nQueue after operations\")\n",
        "\n",
        "print(queue_exm)"
      ],
      "metadata": {
        "colab": {
          "base_uri": "https://localhost:8080/"
        },
        "id": "hqcNB4xprdMd",
        "outputId": "261a865d-4f3c-409b-e829-9268bd4f1be4"
      },
      "execution_count": 15,
      "outputs": [
        {
          "output_type": "stream",
          "name": "stdout",
          "text": [
            "Queue before operations\n",
            "deque(['x', 'y', 'z'])\n",
            "\n",
            "Dequeuing elements\n",
            "x\n",
            "y\n",
            "z\n",
            "\n",
            "Queue after operations\n",
            "deque([])\n"
          ]
        }
      ]
    },
    {
      "cell_type": "code",
      "source": [
        "print(\"Order Preparing\")\n",
        "queue = ['Number 1. Burger', 'Number 2, Siopao', 'Number 3, Burger Steak']\n",
        "print(queue)\n",
        "print(\"Serving number 1\")\n",
        "print(\"Order served\")\n",
        "print(queue.pop(0))\n",
        "print(\"Current order being prepared: \")\n",
        "print(queue)\n",
        "print(\"Serving number 2\")\n",
        "print(\"Order served\")\n",
        "print(queue.pop(0))\n",
        "print(\"Current order being prepared: \")\n",
        "print(queue)\n",
        "print(\"Serving number 3\")\n",
        "print(\"Order served\")\n",
        "print(queue.pop(0))\n",
        "print(\"Current order being prepared: \")\n",
        "print(queue)"
      ],
      "metadata": {
        "colab": {
          "base_uri": "https://localhost:8080/"
        },
        "id": "5CPXMeSgsknp",
        "outputId": "2fee5e98-fcc1-42fa-8402-d6f9b56a117e"
      },
      "execution_count": 35,
      "outputs": [
        {
          "output_type": "stream",
          "name": "stdout",
          "text": [
            "Order Preparing\n",
            "['Number 1. Burger', 'Number 2, Siopao', 'Number 3, Burger Steak']\n",
            "Serving number 1\n",
            "Order served\n",
            "Number 1. Burger\n",
            "Current order being prepared: \n",
            "['Number 2, Siopao', 'Number 3, Burger Steak']\n",
            "Serving number 2\n",
            "Order served\n",
            "Number 2, Siopao\n",
            "Current order being prepared: \n",
            "['Number 3, Burger Steak']\n",
            "Serving number 3\n",
            "Order served\n",
            "Number 3, Burger Steak\n",
            "Current order being prepared: \n",
            "[]\n"
          ]
        }
      ]
    }
  ]
}